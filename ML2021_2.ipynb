{
  "nbformat": 4,
  "nbformat_minor": 0,
  "metadata": {
    "colab": {
      "name": "ML2021-2.ipynb",
      "provenance": [],
      "collapsed_sections": [],
      "authorship_tag": "ABX9TyO4Ydm2QGKTUg/6+upgDj4l",
      "include_colab_link": true
    },
    "kernelspec": {
      "name": "python3",
      "display_name": "Python 3"
    }
  },
  "cells": [
    {
      "cell_type": "markdown",
      "metadata": {
        "id": "view-in-github",
        "colab_type": "text"
      },
      "source": [
        "<a href=\"https://colab.research.google.com/github/selbstbeherrschung/LAB8/blob/master/ML2021_2.ipynb\" target=\"_parent\"><img src=\"https://colab.research.google.com/assets/colab-badge.svg\" alt=\"Open In Colab\"/></a>"
      ]
    },
    {
      "cell_type": "code",
      "metadata": {
        "id": "uzCnBVd23rII"
      },
      "source": [
        "import numpy as np\r\n",
        "from pandas import Series, DataFrame\r\n",
        "import pandas as pd\r\n",
        "from sklearn.preprocessing import MinMaxScaler\r\n",
        "from scipy.spatial.distance import euclidean as scipyEuclid\r\n",
        "from math import sqrt\r\n",
        "pulsarStar = pd.read_csv('report.csv')\r\n",
        "ps_targ0 = pulsarStar[pulsarStar.TARGET == 0][pulsarStar.MIP <= 95.2890625][pulsarStar.MIP >= 94.6640625]\r\n",
        "ps_targ1 = pulsarStar[pulsarStar.TARGET == 1][pulsarStar.MIP <= 41.8828125][pulsarStar.MIP >= 36.4140625]\r\n",
        "result = pd.concat([ps_targ0, ps_targ1])\r\n",
        "print(\"Size: \" + str(result.MIP.size))\r\n",
        "mean = result.MIP.mean()\r\n",
        "print(\"Mean of MIP: \" + str(mean))\r\n",
        "result = result[[\"MIP\",\"STDIP\",\"EKIP\",\"SIP\",\"MC\",\"STDC\",\"EKC\",\"SC\"]]\r\n",
        "scaler = MinMaxScaler()\r\n",
        "resultArr = scaler.fit_transform(result)\r\n",
        "resultDataFrame = DataFrame(resultArr)\r\n",
        "mean = resultDataFrame[0].mean()\r\n",
        "print(\"Mean of MIP after scale: \" + str(mean))\r\n",
        "star = [0.298, 0.509, 0.57, 0.141, 0.318, 0.996, 0.267, 0.452]\r\n",
        "distance = []\r\n",
        "for currentStar in resultArr:\r\n",
        "  res = 0\r\n",
        "  for i in range(8):\r\n",
        "    res += (star[i] - currentStar[i])**2\r\n",
        "  distance.append(sqrt(res))\r\n",
        "distance.sort()\r\n",
        "distance"
      ],
      "execution_count": null,
      "outputs": []
    }
  ]
}